{
 "cells": [
  {
   "cell_type": "markdown",
   "metadata": {},
   "source": [
    "# Базовая часть"
   ]
  },
  {
   "cell_type": "code",
   "execution_count": null,
   "metadata": {
    "collapsed": true
   },
   "outputs": [],
   "source": [
    "reviews = [\"\"\"Телефон абонента: +7 916 000 00 01\n",
    "Время: 10:34\n",
    "Дата: 20.05.2017\n",
    "Оценка: 1\n",
    "Длительность разговора (мин.): 0:32\n",
    "Комментарий: Общение с сотрудником вашей техподдержки мне не понравилось. Раньше всегда отвечала девушка с приятным голосом, а сегодня какой-то мужчина. Совсем никуда не годится, примите меры!!!\"\"\",\n",
    "\"\"\"Телефон абонента: +7 916 000 00 02\n",
    "Время: 9:20\n",
    "Дата: 21.05.2017\n",
    "Оценка: 5\n",
    "Длительность разговора (мин.): 25:07\n",
    "Комментарий: С моей проблемой мне помогли, большое спасибо!\"\"\"]"
   ]
  },
  {
   "cell_type": "code",
   "execution_count": null,
   "metadata": {
    "collapsed": true
   },
   "outputs": [],
   "source": [
    "my_base = dict()"
   ]
  },
  {
   "cell_type": "code",
   "execution_count": null,
   "metadata": {
    "collapsed": false,
    "scrolled": true
   },
   "outputs": [],
   "source": [
    "in_base = dict()"
   ]
  },
  {
   "cell_type": "code",
   "execution_count": null,
   "metadata": {
    "collapsed": false
   },
   "outputs": [],
   "source": [
    "arr0 = reviews[0].split('\\n')\n",
    "print arr0[0]"
   ]
  },
  {
   "cell_type": "code",
   "execution_count": null,
   "metadata": {
    "collapsed": false
   },
   "outputs": [],
   "source": [
    "line0 = arr0[0].split(': ')\n",
    "print line0[1]"
   ]
  },
  {
   "cell_type": "code",
   "execution_count": null,
   "metadata": {
    "collapsed": false
   },
   "outputs": [],
   "source": [
    "del arr0[0]\n",
    "print arr0[0]"
   ]
  },
  {
   "cell_type": "code",
   "execution_count": null,
   "metadata": {
    "collapsed": false
   },
   "outputs": [],
   "source": [
    "for line in reviews[0].split('\\n'):\n",
    "    if line:\n",
    "        splitted_line = line.split(': ')\n",
    "        field_name = splitted_line[0]\n",
    "        field_value = splitted_line[1]\n",
    "        in_base[field_name] = field_value"
   ]
  },
  {
   "cell_type": "code",
   "execution_count": null,
   "metadata": {
    "collapsed": false
   },
   "outputs": [],
   "source": [
    "print in_base['Комментарий']"
   ]
  },
  {
   "cell_type": "code",
   "execution_count": null,
   "metadata": {
    "collapsed": false
   },
   "outputs": [],
   "source": [
    "my_base[line0[1]] = in_base"
   ]
  },
  {
   "cell_type": "code",
   "execution_count": null,
   "metadata": {
    "collapsed": false
   },
   "outputs": [],
   "source": [
    "print my_base['+7 916 000 00 01']['Дата']"
   ]
  },
  {
   "cell_type": "code",
   "execution_count": null,
   "metadata": {
    "collapsed": false
   },
   "outputs": [],
   "source": [
    "arr1 = reviews[1].split('\\n')\n",
    "print arr1[0]\n",
    "\n",
    "line1 = arr1[0].split(': ')\n",
    "print line1[1]"
   ]
  },
  {
   "cell_type": "code",
   "execution_count": null,
   "metadata": {
    "collapsed": false
   },
   "outputs": [],
   "source": [
    "del arr1[0]\n",
    "print arr1[0]\n",
    "\n",
    "in_base1 = dict() "
   ]
  },
  {
   "cell_type": "code",
   "execution_count": null,
   "metadata": {
    "collapsed": true
   },
   "outputs": [],
   "source": [
    "for line in reviews[1].split('\\n'):\n",
    "    if line:\n",
    "        splitted_line = line.split(': ')\n",
    "        field_name = splitted_line[0]\n",
    "        field_value = splitted_line[1]\n",
    "        in_base1[field_name] = field_value"
   ]
  },
  {
   "cell_type": "code",
   "execution_count": null,
   "metadata": {
    "collapsed": false
   },
   "outputs": [],
   "source": [
    "print in_base1['Длительность разговора (мин.)']"
   ]
  },
  {
   "cell_type": "code",
   "execution_count": null,
   "metadata": {
    "collapsed": true
   },
   "outputs": [],
   "source": [
    "my_base[line1[1]] = in_base1"
   ]
  },
  {
   "cell_type": "code",
   "execution_count": null,
   "metadata": {
    "collapsed": false
   },
   "outputs": [],
   "source": [
    "print my_base['+7 916 000 00 01']['Дата']"
   ]
  },
  {
   "cell_type": "code",
   "execution_count": null,
   "metadata": {
    "collapsed": false
   },
   "outputs": [],
   "source": [
    "print my_base['+7 916 000 00 02']['Дата']"
   ]
  },
  {
   "cell_type": "code",
   "execution_count": null,
   "metadata": {
    "collapsed": false
   },
   "outputs": [],
   "source": [
    "print type (my_base['+7 916 000 00 01']['Дата'])\n",
    "\n",
    "print type ('20.05.2017')"
   ]
  },
  {
   "cell_type": "code",
   "execution_count": null,
   "metadata": {
    "collapsed": false
   },
   "outputs": [],
   "source": [
    "my_base['+7 916 000 00 01']['Дата'] == '20.05.2017'"
   ]
  },
  {
   "cell_type": "markdown",
   "metadata": {},
   "source": [
    "# Продвинутая часть"
   ]
  },
  {
   "cell_type": "code",
   "execution_count": null,
   "metadata": {
    "collapsed": false
   },
   "outputs": [],
   "source": [
    "print type (my_base['+7 916 000 00 01']['Время']) #необходимо тип значения изменить на Время\n",
    "print type (my_base['+7 916 000 00 01']['Дата']) #необходимо тип значения изменить на Дата\n",
    "print type (my_base['+7 916 000 00 01']['Оценка']) #необходимо тип значения изменить на инт\n",
    "print type (my_base['+7 916 000 00 01']['Длительность разговора (мин.)']) #оставляем str\n",
    "print type (my_base['+7 916 000 00 01']['Комментарий']) #оставляем str"
   ]
  },
  {
   "cell_type": "code",
   "execution_count": null,
   "metadata": {
    "collapsed": true
   },
   "outputs": [],
   "source": [
    "my_base1 = dict()\n",
    "in_base0 = dict()\n",
    "in_base1 = dict()"
   ]
  },
  {
   "cell_type": "code",
   "execution_count": null,
   "metadata": {
    "collapsed": false
   },
   "outputs": [],
   "source": [
    "arr0 = reviews[0].split('\\n')\n",
    "print arr0[0]"
   ]
  },
  {
   "cell_type": "code",
   "execution_count": null,
   "metadata": {
    "collapsed": false
   },
   "outputs": [],
   "source": [
    "line0 = arr0[0].split(': ')\n",
    "print line0[1]"
   ]
  },
  {
   "cell_type": "code",
   "execution_count": null,
   "metadata": {
    "collapsed": false
   },
   "outputs": [],
   "source": [
    "del arr0[0]\n",
    "print arr0[0]"
   ]
  },
  {
   "cell_type": "code",
   "execution_count": null,
   "metadata": {
    "collapsed": true
   },
   "outputs": [],
   "source": [
    "time_splitted = arr0[0].split(': ') #время"
   ]
  },
  {
   "cell_type": "code",
   "execution_count": null,
   "metadata": {
    "collapsed": false
   },
   "outputs": [],
   "source": [
    "timee = time_splitted[1].split(\":\") \n",
    "print timee[0], timee[1] "
   ]
  },
  {
   "cell_type": "code",
   "execution_count": null,
   "metadata": {
    "collapsed": false
   },
   "outputs": [],
   "source": []
  },
  {
   "cell_type": "code",
   "execution_count": null,
   "metadata": {
    "collapsed": false
   },
   "outputs": [],
   "source": [
    "date_splitted = arr0[1].split(': ') # дата"
   ]
  },
  {
   "cell_type": "code",
   "execution_count": null,
   "metadata": {
    "collapsed": false
   },
   "outputs": [],
   "source": [
    "datee = date_splitted[1].split(\".\") \n",
    "print datee[0], datee[1], datee[2]"
   ]
  },
  {
   "cell_type": "code",
   "execution_count": null,
   "metadata": {
    "collapsed": false
   },
   "outputs": [],
   "source": [
    "from datetime import datetime, date, time"
   ]
  },
  {
   "cell_type": "code",
   "execution_count": null,
   "metadata": {
    "collapsed": false
   },
   "outputs": [],
   "source": [
    "d = date(int(datee[2]), int(datee[1]), int(datee[0])) #создаем объект класса Дата\n",
    "t = time(int(timee[0]), int(timee[1])) #создаем объект класса Время"
   ]
  },
  {
   "cell_type": "code",
   "execution_count": null,
   "metadata": {
    "collapsed": false
   },
   "outputs": [],
   "source": [
    "print t, d"
   ]
  },
  {
   "cell_type": "code",
   "execution_count": null,
   "metadata": {
    "collapsed": true
   },
   "outputs": [],
   "source": [
    "mark_splitted = arr0[2].split(': ') #оценка"
   ]
  },
  {
   "cell_type": "code",
   "execution_count": null,
   "metadata": {
    "collapsed": false
   },
   "outputs": [],
   "source": [
    "mark = int(mark_splitted[1])\n",
    "print type(mark), mark"
   ]
  },
  {
   "cell_type": "code",
   "execution_count": null,
   "metadata": {
    "collapsed": false
   },
   "outputs": [],
   "source": [
    "in_base0['Время'] = t\n",
    "print in_base0['Время']"
   ]
  },
  {
   "cell_type": "code",
   "execution_count": null,
   "metadata": {
    "collapsed": false
   },
   "outputs": [],
   "source": [
    "in_base0['Дата'] = d\n",
    "print in_base0['Дата']"
   ]
  },
  {
   "cell_type": "code",
   "execution_count": null,
   "metadata": {
    "collapsed": false
   },
   "outputs": [],
   "source": [
    "in_base0['Оценка'] = mark\n",
    "print in_base0['Оценка']"
   ]
  },
  {
   "cell_type": "code",
   "execution_count": null,
   "metadata": {
    "collapsed": false
   },
   "outputs": [],
   "source": [
    "len_splitted = arr0[3].split(': ')\n",
    "in_base0['Длительность разговора (мин.)'] = len_splitted[1]\n",
    "print in_base0['Длительность разговора (мин.)']"
   ]
  },
  {
   "cell_type": "code",
   "execution_count": null,
   "metadata": {
    "collapsed": false
   },
   "outputs": [],
   "source": [
    "com_splitted = arr0[4].split(': ')\n",
    "in_base0['Комментарий'] = com_splitted[1]\n",
    "print in_base0['Комментарий']"
   ]
  },
  {
   "cell_type": "code",
   "execution_count": null,
   "metadata": {
    "collapsed": true
   },
   "outputs": [],
   "source": [
    "my_base1[line0[1]] = in_base0"
   ]
  },
  {
   "cell_type": "code",
   "execution_count": null,
   "metadata": {
    "collapsed": true
   },
   "outputs": [],
   "source": [
    "#второй отзыв"
   ]
  },
  {
   "cell_type": "code",
   "execution_count": null,
   "metadata": {
    "collapsed": false
   },
   "outputs": [],
   "source": [
    "arr1 = reviews[1].split('\\n')\n",
    "print arr1[0]"
   ]
  },
  {
   "cell_type": "code",
   "execution_count": null,
   "metadata": {
    "collapsed": false
   },
   "outputs": [],
   "source": [
    "line1 = arr1[0].split(': ')\n",
    "print line1[1]"
   ]
  },
  {
   "cell_type": "code",
   "execution_count": null,
   "metadata": {
    "collapsed": false
   },
   "outputs": [],
   "source": [
    "del arr1[0]\n",
    "print arr1[0]"
   ]
  },
  {
   "cell_type": "code",
   "execution_count": null,
   "metadata": {
    "collapsed": true
   },
   "outputs": [],
   "source": [
    "time_splitted = arr1[0].split(': ') #время"
   ]
  },
  {
   "cell_type": "code",
   "execution_count": null,
   "metadata": {
    "collapsed": false
   },
   "outputs": [],
   "source": [
    "timee = time_splitted[1].split(\":\") \n",
    "print timee[0], timee[1] "
   ]
  },
  {
   "cell_type": "code",
   "execution_count": null,
   "metadata": {
    "collapsed": true
   },
   "outputs": [],
   "source": [
    "date_splitted = arr1[1].split(': ') # дата"
   ]
  },
  {
   "cell_type": "code",
   "execution_count": null,
   "metadata": {
    "collapsed": false
   },
   "outputs": [],
   "source": [
    "datee = date_splitted[1].split(\".\") \n",
    "print datee[0], datee[1], datee[2]"
   ]
  },
  {
   "cell_type": "code",
   "execution_count": null,
   "metadata": {
    "collapsed": false
   },
   "outputs": [],
   "source": [
    "dd = date(int(datee[2]), int(datee[1]), int(datee[0])) #создаем объект класса Дата\n",
    "tt = time(int(timee[0]), int(timee[1])) #создаем объект класса Время\n",
    "print t, d"
   ]
  },
  {
   "cell_type": "code",
   "execution_count": null,
   "metadata": {
    "collapsed": true
   },
   "outputs": [],
   "source": [
    "mark_splitted = arr1[2].split(': ') #оценка"
   ]
  },
  {
   "cell_type": "code",
   "execution_count": null,
   "metadata": {
    "collapsed": false
   },
   "outputs": [],
   "source": [
    "mark = int(mark_splitted[1])\n",
    "print type(mark), mark\n",
    "\n",
    "in_base1['Время'] = tt\n",
    "print in_base1['Время']\n",
    "\n",
    "in_base1['Дата'] = dd\n",
    "print in_base1['Дата']\n",
    "\n",
    "in_base1['Оценка'] = mark\n",
    "print in_base1['Оценка']"
   ]
  },
  {
   "cell_type": "code",
   "execution_count": null,
   "metadata": {
    "collapsed": false
   },
   "outputs": [],
   "source": [
    "len_splitted = arr1[3].split(': ')\n",
    "in_base1['Длительность разговора (мин.)'] = len_splitted[1]\n",
    "print in_base1['Длительность разговора (мин.)']"
   ]
  },
  {
   "cell_type": "code",
   "execution_count": null,
   "metadata": {
    "collapsed": false
   },
   "outputs": [],
   "source": [
    "com_splitted = arr1[4].split(': ')\n",
    "in_base1['Комментарий'] = com_splitted[1]\n",
    "print in_base1['Комментарий']"
   ]
  },
  {
   "cell_type": "code",
   "execution_count": null,
   "metadata": {
    "collapsed": true
   },
   "outputs": [],
   "source": [
    "my_base1[line1[1]] = in_base1"
   ]
  },
  {
   "cell_type": "code",
   "execution_count": null,
   "metadata": {
    "collapsed": false
   },
   "outputs": [],
   "source": [
    "print my_base['+7 916 000 00 01']['Время']\n",
    "print my_base['+7 916 000 00 01']['Дата']\n",
    "print my_base['+7 916 000 00 01']['Оценка']\n",
    "print my_base['+7 916 000 00 01']['Длительность разговора (мин.)']\n",
    "print my_base['+7 916 000 00 01']['Комментарий']\n",
    "print my_base['+7 916 000 00 02']['Время']\n",
    "print my_base['+7 916 000 00 02']['Дата']\n",
    "print my_base['+7 916 000 00 02']['Оценка']\n",
    "print my_base['+7 916 000 00 02']['Длительность разговора (мин.)']\n",
    "print my_base['+7 916 000 00 02']['Комментарий']\n",
    "print my_base1['+7 916 000 00 01']['Время']\n",
    "print my_base1['+7 916 000 00 01']['Дата']\n",
    "print my_base1['+7 916 000 00 01']['Оценка']\n",
    "print my_base1['+7 916 000 00 01']['Длительность разговора (мин.)']\n",
    "print my_base1['+7 916 000 00 01']['Комментарий']\n",
    "print my_base1['+7 916 000 00 02']['Время']\n",
    "print my_base1['+7 916 000 00 02']['Дата']\n",
    "print my_base1['+7 916 000 00 02']['Оценка']\n",
    "print my_base1['+7 916 000 00 02']['Длительность разговора (мин.)']\n",
    "print my_base1['+7 916 000 00 02']['Комментарий']\n"
   ]
  },
  {
   "cell_type": "markdown",
   "metadata": {},
   "source": [
    "## Комментарий к выбору типа данных"
   ]
  },
  {
   "cell_type": "markdown",
   "metadata": {},
   "source": [
    "Поля время и дата удобнее хранить в классах date и time. Легче производить операции над ними. \n",
    "Для этих классов существует много методов. Например, с помощью метода можно найти разнцу между двумя датами. \n",
    "Имея объект класса time, можно с помощью метода найти количество секунд. Перевести часы и минуты в секунды."
   ]
  },
  {
   "cell_type": "code",
   "execution_count": 103,
   "metadata": {
    "collapsed": false
   },
   "outputs": [
    {
     "name": "stdout",
     "output_type": "stream",
     "text": [
      "<type 'datetime.time'>\n",
      "<type 'datetime.date'>\n",
      "<type 'int'>\n",
      "<type 'datetime.time'>\n",
      "<type 'datetime.date'>\n",
      "<type 'int'>\n"
     ]
    }
   ],
   "source": [
    "print type (my_base1['+7 916 000 00 01']['Время'])\n",
    "print type (my_base1['+7 916 000 00 01']['Дата'])\n",
    "print type (my_base1['+7 916 000 00 01']['Оценка'])\n",
    "print type (my_base1['+7 916 000 00 02']['Время'])\n",
    "print type (my_base1['+7 916 000 00 02']['Дата'])\n",
    "print type (my_base1['+7 916 000 00 02']['Оценка'])"
   ]
  },
  {
   "cell_type": "markdown",
   "metadata": {},
   "source": []
  },
  {
   "cell_type": "markdown",
   "metadata": {},
   "source": [
    "# Сложная часть"
   ]
  },
  {
   "cell_type": "markdown",
   "metadata": {},
   "source": [
    "###### Подумайте, можно ли \"сломать\" неизменяемость tuple? Как сделать tuple изменяемым?"
   ]
  },
  {
   "cell_type": "markdown",
   "metadata": {},
   "source": [
    " - Можно создавать новые tuple на основе старого tuple.\n",
    " - Можно преобразовать кортеж в список, изменить список, а потом обратно список преобразовать в кортеж"
   ]
  },
  {
   "cell_type": "markdown",
   "metadata": {},
   "source": [
    "###### Можно ли будет его добавить в множество?"
   ]
  },
  {
   "cell_type": "markdown",
   "metadata": {},
   "source": [
    "Думаю, что нельзя, так как tuple является незменяемым типом "
   ]
  },
  {
   "cell_type": "markdown",
   "metadata": {},
   "source": [
    "###### или использовать в качестве ключа в словаре?"
   ]
  },
  {
   "cell_type": "markdown",
   "metadata": {},
   "source": [
    "Это можно, так как кортежи и ключи в словаре являются незменяемыми"
   ]
  },
  {
   "cell_type": "code",
   "execution_count": null,
   "metadata": {
    "collapsed": true
   },
   "outputs": [],
   "source": []
  }
 ],
 "metadata": {
  "kernelspec": {
   "display_name": "Python 2",
   "language": "python",
   "name": "python2"
  },
  "language_info": {
   "codemirror_mode": {
    "name": "ipython",
    "version": 2
   },
   "file_extension": ".py",
   "mimetype": "text/x-python",
   "name": "python",
   "nbconvert_exporter": "python",
   "pygments_lexer": "ipython2",
   "version": "2.7.13"
  }
 },
 "nbformat": 4,
 "nbformat_minor": 2
}
