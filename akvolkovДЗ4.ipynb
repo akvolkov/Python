{
 "cells": [
  {
   "cell_type": "markdown",
   "metadata": {},
   "source": [
    "### Большая часть задач требует операций с файлами, поэтому для воспроизводимости результатов работы вашего кода эти файлы нужно создавать\n",
    "\n",
    "### Можете их всех создавать в текущей папке, быстро и удобно это можно сделать таким способом:"
   ]
  },
  {
   "cell_type": "code",
   "execution_count": null,
   "metadata": {
    "collapsed": false
   },
   "outputs": [],
   "source": [
    "text = \"\"\"lala\n",
    "lal\n",
    "lalal\n",
    "lololol\n",
    "1\n",
    "2\n",
    "3\n",
    "\"\"\"\n",
    "with open('task_1.1_source', 'w') as f:\n",
    "    f.write(text)"
   ]
  },
  {
   "cell_type": "code",
   "execution_count": 4,
   "metadata": {
    "collapsed": false
   },
   "outputs": [
    {
     "name": "stderr",
     "output_type": "stream",
     "text": [
      "\"cat\" ­Ґ пў«пҐвбп ў­гваҐ­­Ґ© Ё«Ё ў­Ґи­Ґ©\n",
      "Є®¬ ­¤®©, ЁбЇ®«­пҐ¬®© Їа®Ја ¬¬®© Ё«Ё Ї ЄҐв­л¬ д ©«®¬.\n"
     ]
    }
   ],
   "source": [
    "!cat task_1.1_source"
   ]
  },
  {
   "cell_type": "markdown",
   "metadata": {},
   "source": [
    "# Базовый уровень"
   ]
  },
  {
   "cell_type": "markdown",
   "metadata": {},
   "source": [
    "## Задание 1.1\n",
    "\n",
    "Напишите функцию, копирующую файл\n",
    "\n",
    "source_path должен существовать, а отсутствующие промежуточные папки из target_path должны быть созданы\n",
    "\n",
    "Подсказка: можно прочитать исходный файл и записать в новый. \n",
    "\n",
    "Опциональное усложнение: попробуйте написать так, чтобы функция работала и с большими файлами (нужно, чтобы содежимое файла не считывалось полностью в память)"
   ]
  },
  {
   "cell_type": "code",
   "execution_count": 9,
   "metadata": {
    "collapsed": false
   },
   "outputs": [],
   "source": [
    "def copy_file(source_path, target_path):\n",
    "    # Допишите код\n",
    "    with open(source_path, 'r') as f:\n",
    "        my_string = f.read()    \n",
    "        \n",
    "    with open(target_path, 'w') as g:\n",
    "        g.write(my_string)  \n",
    "    \n",
    "    return"
   ]
  },
  {
   "cell_type": "code",
   "execution_count": 10,
   "metadata": {
    "collapsed": false
   },
   "outputs": [],
   "source": [
    "copy_file('task_1.1_source', 'task_1.1_target')"
   ]
  },
  {
   "cell_type": "markdown",
   "metadata": {},
   "source": [
    "###### Опциональное усложнение"
   ]
  },
  {
   "cell_type": "code",
   "execution_count": 14,
   "metadata": {
    "collapsed": false
   },
   "outputs": [],
   "source": [
    "def copy_file(source_path, target_path):\n",
    "    # Допишите код\n",
    "    f = open(source_path, 'r')\n",
    "    g = open(target_path, 'w')\n",
    "    while True:\n",
    "        data = f.read(1)\n",
    "        g.write(data)\n",
    "        if not data:\n",
    "            break    \n",
    "    g.close()  \n",
    "    f.close()  \n",
    "    return"
   ]
  },
  {
   "cell_type": "code",
   "execution_count": 15,
   "metadata": {
    "collapsed": false
   },
   "outputs": [],
   "source": [
    "copy_file('task_1.1_source', 'task_1.1_target')"
   ]
  },
  {
   "cell_type": "markdown",
   "metadata": {},
   "source": [
    "## Задание 1.2\n",
    "\n",
    "##### В файле source_path находится англо-латинский словарь, то есть список слов на английском языке и их переводы на латинский язык (переводов может быть несколько). Необходимо создать из него латино-английский словарь по пути target_path. Например, из словаря\n",
    "\n",
    "\n",
    "\n",
    "apple - malum, pomum, popula\n",
    "\n",
    "fruit - baca, bacca, popum\n",
    "\n",
    "punishment - malum, multa\n",
    "\n",
    "\n",
    "\n",
    "##### нужно сделать словарь.\n",
    "\n",
    "baca - fruit\n",
    "\n",
    "bacca - fruit\n",
    "\n",
    "malum - apple, punishment\n",
    "\n",
    "multa - punishment\n",
    "\n",
    "pomum - apple\n",
    "\n",
    "popula - apple\n",
    "\n",
    "popum - fruit\n",
    "\n",
    "##### Не забудьте, что слова нужно расположить в алфавитном порядке.\n",
    "##### Будет полезна функция strip у строки для удаления пробелов\n"
   ]
  },
  {
   "cell_type": "code",
   "execution_count": 39,
   "metadata": {
    "collapsed": true
   },
   "outputs": [],
   "source": [
    "text = \"\"\"apple - malum, pomum, popula\n",
    "fruit - baca, bacca, popum\n",
    "punishment - malum, multa\"\"\"\n",
    "with open('task_1.2_source', 'w') as f:\n",
    "    f.write(text)"
   ]
  },
  {
   "cell_type": "code",
   "execution_count": 40,
   "metadata": {
    "collapsed": false
   },
   "outputs": [],
   "source": [
    "def eng_lat_2_lat_eng(source_path, target_path):\n",
    "    # Допишите код\n",
    "    dictionary = dict()\n",
    "    with open(source_path, 'r') as f:\n",
    "        words = f.read()\n",
    "    print words\n",
    "    splitted = words.split('\\n') #разделение на строки\n",
    "    for line in splitted: #для каждой строки\n",
    "        splitted1 = line.split('-')#делим на значение и определения            \n",
    "        splitted1 = delSpace (splitted1)#удаляем пробелы        \n",
    "        splitted2 = splitted1[1].split(',')#делим определения на отделные слова\n",
    "        splitted2 = delSpace (splitted2)#удаляем пробелы в определениях\n",
    "        #заполняем лист\n",
    "        for value in splitted2:\n",
    "            #проверка на сущесвоване ключа и добавлене пар\n",
    "            if dictionary.get(value) != None:\n",
    "                dictionary[value] += ', ' + splitted1[0]\n",
    "            else:\n",
    "                dictionary[value] = splitted1[0]\n",
    "    #print dictionary \n",
    "    \n",
    "    #записываем в файл    \n",
    "    with open(target_path, 'w') as g:\n",
    "        for key in sorted(dictionary):\n",
    "            g.write(key + ' - ' + dictionary[key] + '\\n')\n",
    "    return"
   ]
  },
  {
   "cell_type": "code",
   "execution_count": 41,
   "metadata": {
    "collapsed": true
   },
   "outputs": [],
   "source": [
    "def delSpace (splitted1):\n",
    "    for i in range(len(splitted1)):\n",
    "        splitted1[i] = splitted1[i].strip()\n",
    "    return splitted1"
   ]
  },
  {
   "cell_type": "code",
   "execution_count": 42,
   "metadata": {
    "collapsed": false
   },
   "outputs": [
    {
     "name": "stdout",
     "output_type": "stream",
     "text": [
      "apple - malum, pomum, popula\n",
      "fruit - baca, bacca, popum\n",
      "punishment - malum, multa\n"
     ]
    }
   ],
   "source": [
    "eng_lat_2_lat_eng('task_1.2_source', 'task_1.2_target')"
   ]
  },
  {
   "cell_type": "markdown",
   "metadata": {},
   "source": [
    "## Задание 1.3\n",
    "\n",
    "Напишите функцию, вычисляющую длину русского слова, независимо от его кодировки\n",
    "\n",
    "Если параметр encoding задан, то нужно декодировать текст при помощи этой кодировки. А если он не задан, то кодировку надо определить самостоятельно.\n",
    "\n",
    "##### Если кодировка не задана, то точное решение здесь написать не получится. Но можно воспользоваться функцией my_decoder из лекции"
   ]
  },
  {
   "cell_type": "code",
   "execution_count": 215,
   "metadata": {
    "collapsed": true
   },
   "outputs": [],
   "source": [
    "def my_len(word, encoding=None):\n",
    "    # Допишите код\n",
    "    if (encoding == None):\n",
    "        code = my_decoder(word)\n",
    "        print (code)\n",
    "    else:\n",
    "        code = unicode(word, encoding)\n",
    "    return len(code)"
   ]
  },
  {
   "cell_type": "code",
   "execution_count": 216,
   "metadata": {
    "collapsed": true
   },
   "outputs": [],
   "source": [
    "def my_decoder(val):\n",
    "    import chardet\n",
    "    if type(val) is unicode:\n",
    "        return val\n",
    "    else:\n",
    "        return unicode(val, encoding=chardet.detect(val)['encoding'])"
   ]
  },
  {
   "cell_type": "code",
   "execution_count": 217,
   "metadata": {
    "collapsed": false
   },
   "outputs": [
    {
     "name": "stdout",
     "output_type": "stream",
     "text": [
      "текст\n"
     ]
    },
    {
     "data": {
      "text/plain": [
       "True"
      ]
     },
     "execution_count": 217,
     "metadata": {},
     "output_type": "execute_result"
    }
   ],
   "source": [
    "my_len('текст') == 5"
   ]
  },
  {
   "cell_type": "code",
   "execution_count": 218,
   "metadata": {
    "collapsed": false
   },
   "outputs": [
    {
     "name": "stdout",
     "output_type": "stream",
     "text": [
      "текст\n"
     ]
    },
    {
     "data": {
      "text/plain": [
       "True"
      ]
     },
     "execution_count": 218,
     "metadata": {},
     "output_type": "execute_result"
    }
   ],
   "source": [
    "my_len(u'текст') == 5"
   ]
  },
  {
   "cell_type": "code",
   "execution_count": 219,
   "metadata": {
    "collapsed": false
   },
   "outputs": [
    {
     "data": {
      "text/plain": [
       "True"
      ]
     },
     "execution_count": 219,
     "metadata": {},
     "output_type": "execute_result"
    }
   ],
   "source": [
    "my_len(u'ааааа'.encode('utf_16'), encoding='utf_16') == 5"
   ]
  },
  {
   "cell_type": "code",
   "execution_count": 220,
   "metadata": {
    "collapsed": false
   },
   "outputs": [
    {
     "name": "stdout",
     "output_type": "stream",
     "text": [
      "текст\n"
     ]
    },
    {
     "data": {
      "text/plain": [
       "True"
      ]
     },
     "execution_count": 220,
     "metadata": {},
     "output_type": "execute_result"
    }
   ],
   "source": [
    "my_len(u'текст'.encode('windows-1251')) == 5"
   ]
  },
  {
   "cell_type": "markdown",
   "metadata": {},
   "source": [
    "# Продвинутый уровень"
   ]
  },
  {
   "cell_type": "markdown",
   "metadata": {},
   "source": [
    "## Задание 2.1\n",
    "\n",
    "Напишите функцию, которая выписывает список файлов в данной директории и сортирует их в соответствии с их размером. Функция должна получать путь к директории в качестве аргумента и печатать на экран имена всех файлов в ней и их размеры, причем первыми должны идти файлы с наибольшими размерами, а в случае одинакового размер файлы сортируются по алфавиту.\n",
    "\n",
    "##### Указание. Изучите функции listdir и stat из модуля os и функции isfile и join из модуля os.path.\n"
   ]
  },
  {
   "cell_type": "code",
   "execution_count": null,
   "metadata": {
    "collapsed": true
   },
   "outputs": [],
   "source": []
  },
  {
   "cell_type": "code",
   "execution_count": 12,
   "metadata": {
    "collapsed": false
   },
   "outputs": [],
   "source": [
    "import os\n",
    "def get_dir_content_info(dir_path):\n",
    "    # Допишите код\n",
    "    list = os.listdir(dir_path)\n",
    "    list = [x for x in os.listdir(dir_path) if os.path.isfile(os.path.join(dir_path, x))]\n",
    "    list.sort()\n",
    "    for i in range(len(list)):\n",
    "        for j in range(len(list)-1):\n",
    "            statinfo1 = os.stat(os.path.join(dir_path, list[j]))\n",
    "            statinfo2 = os.stat(os.path.join(dir_path, list[j+1]))\n",
    "            sizeFile1 = statinfo1.st_size\n",
    "            sizeFile2 = statinfo2.st_size\n",
    "            if (sizeFile1 < sizeFile2):\n",
    "                temp = list[j]\n",
    "                list[j] = list[j+1]\n",
    "                list[j+1] = temp                \n",
    "    \n",
    "    print list\n",
    "    return"
   ]
  },
  {
   "cell_type": "code",
   "execution_count": 13,
   "metadata": {
    "collapsed": false
   },
   "outputs": [
    {
     "name": "stdout",
     "output_type": "stream",
     "text": [
      "['pagefile.sys', 'hiberfil.sys', 'data.txt', 'console.log', 'data1.txt', 'result.txt', 'your_file_name8086912312029199186.tmp', 'result.tst', 'result1.txt', 'data2.txt', '\\xcd\\xee\\xe2\\xfb\\xe9 \\xf2\\xe5\\xea\\xf1\\xf2\\xee\\xe2\\xfb\\xe9 \\xe4\\xee\\xea\\xf3\\xec\\xe5\\xed\\xf2.txt']\n"
     ]
    }
   ],
   "source": [
    "get_dir_content_info('C:\\\\')"
   ]
  },
  {
   "cell_type": "markdown",
   "metadata": {},
   "source": [
    "## Задание 2.2\n",
    "\n",
    "Аналогично 1.2, но только теперь англо-русский в русско-английский словарь. Дополнительно теперь будет ещё параметр encoding для кодировки файлов. Если он None, то нужно самостоятельно определить кодировку файла.\n",
    "\n",
    "##### Решение будет почти дублировать 1.2, но сначала текст нужно привести в unicode"
   ]
  },
  {
   "cell_type": "code",
   "execution_count": 51,
   "metadata": {
    "collapsed": true
   },
   "outputs": [],
   "source": [
    "text = \"\"\"apple -яблоко, тыблоко, огрызок\n",
    "fruit - банан, яблоко, персик\n",
    "punishment - наказание, кара\"\"\"\n",
    "with open('task_2.2_source', 'w') as f:\n",
    "    f.write(text)"
   ]
  },
  {
   "cell_type": "code",
   "execution_count": 52,
   "metadata": {
    "collapsed": false
   },
   "outputs": [],
   "source": [
    "def eng_rus_2_rus_eng(source_path, target_path, encoding=None):\n",
    "    # Допишите код\n",
    "    with open('task_2.2_source', 'r') as f:\n",
    "        lines = f.read()   \n",
    "    \n",
    "    if (encoding == None):\n",
    "        code = my_decoder(lines)\n",
    "        print type (code)\n",
    "    else:\n",
    "        code = unicode(lines, encoding) \n",
    "        print type (code) \n",
    "        \n",
    "    eng_lat_2_lat_eng(source_path, target_path) #используем функцю из 1,2\n",
    "        \n",
    "    return"
   ]
  },
  {
   "cell_type": "code",
   "execution_count": 53,
   "metadata": {
    "collapsed": true
   },
   "outputs": [],
   "source": [
    "import chardet\n",
    "def my_decoder(val):\n",
    "    if type(val) is unicode:\n",
    "        return val\n",
    "    else:\n",
    "        return unicode(val, encoding=chardet.detect(val)['encoding'])"
   ]
  },
  {
   "cell_type": "code",
   "execution_count": 54,
   "metadata": {
    "collapsed": false
   },
   "outputs": [
    {
     "name": "stdout",
     "output_type": "stream",
     "text": [
      "<type 'unicode'>\n",
      "apple -яблоко, тыблоко, огрызок\n",
      "fruit - банан, яблоко, персик\n",
      "punishment - наказание, кара\n"
     ]
    }
   ],
   "source": [
    "eng_rus_2_rus_eng('task_2.2_source', 'task_2.2_target', encoding='utf-8')"
   ]
  },
  {
   "cell_type": "markdown",
   "metadata": {},
   "source": [
    "# Сложный уровень"
   ]
  },
  {
   "cell_type": "markdown",
   "metadata": {},
   "source": [
    "## Задание 3.1\n",
    "\n",
    "Существует исследование, говорящее о том, что в словах текста можно произвольно переставить буквы (не затрагивая первую и последнюю), и от этого читабельность текста практически не ухудшится. Напишите функцию для проверки этого факта. Ваша функция должна получать на вход какой-нибудь текст (может быть и на русском языке) и переставлять буквы в его словах случайным образом. \n",
    "\n",
    "Если seed None, то буквы переставляются не случайным образом, а сортируются по алфавиту (латинские символы считаем меньше кириллических). Если seed не None, то нужно использовать это seed при инициализации рандома. Сравните результаты.\n",
    "\n",
    "##### будем считать, что текст это последовательность кириллических и латинских символов разделённая пробелом\n",
    "##### вам потребуется модуль random и функции random.seed и random.shuffle\n",
    "##### проверьте результат работы на не юникодовских строчках и объясните результат"
   ]
  },
  {
   "cell_type": "code",
   "execution_count": 293,
   "metadata": {
    "collapsed": false
   },
   "outputs": [],
   "source": [
    "text = u'def process fst source path, snd source path, target pathрусский текст'"
   ]
  },
  {
   "cell_type": "code",
   "execution_count": 294,
   "metadata": {
    "collapsed": false
   },
   "outputs": [],
   "source": [
    "def text_shuffle(text, seed=None):\n",
    "    # Допишите код\n",
    "    words = text.split(' ')\n",
    "    words2 = []\n",
    "    #print (words)\n",
    "    for word in words:\n",
    "        wordList = word_to_list_and_random(word, seed)        \n",
    "        #print (wordList) \n",
    "        x1 = word[0]\n",
    "        x2 = ''.join(wordList)\n",
    "        x3 = word[len(word)-1]\n",
    "        words2.append(word[0]+''.join(wordList)+word[len(word)-1])\n",
    "    textFinal = \" \".join(words2)\n",
    "    print text\n",
    "    print textFinal\n",
    "        \n",
    "    return"
   ]
  },
  {
   "cell_type": "code",
   "execution_count": 295,
   "metadata": {
    "collapsed": false
   },
   "outputs": [],
   "source": [
    "def word_to_list_and_random(word, seed):\n",
    "    import random\n",
    "    wordList = []           \n",
    "    for i in range (1, len(word)-1):\n",
    "        wordList.append(word[i])\n",
    "    \n",
    "    if (seed == None):\n",
    "        wordList.sort()\n",
    "    else:\n",
    "        random.seed(seed)\n",
    "        random.shuffle(wordList)\n",
    "    return wordList"
   ]
  },
  {
   "cell_type": "code",
   "execution_count": 296,
   "metadata": {
    "collapsed": false
   },
   "outputs": [
    {
     "name": "stdout",
     "output_type": "stream",
     "text": [
      "def process fst source path, snd source path, target pathрусский текст\n",
      "def poscres fst scuore phat, snd scuore phat, teragt pиукaрhсtсй тсект\n",
      "\n",
      "def process fst source path, snd source path, target pathрусский текст\n",
      "def psorces fst srouce path, snd srouce path, tgaret pрhtискaусй текст\n"
     ]
    }
   ],
   "source": [
    "text_shuffle(text, '20')\n",
    "print\n",
    "text_shuffle(text, 'None')"
   ]
  },
  {
   "cell_type": "code",
   "execution_count": 300,
   "metadata": {
    "collapsed": false
   },
   "outputs": [
    {
     "name": "stdout",
     "output_type": "stream",
     "text": [
      "def process fst source path, snd source path, target path������� �����\n",
      "def poscres fst scuore phat, snd scuore phat, teragt p���a�h�t�� �����\n",
      "\n",
      "def process fst source path, snd source path, target path������� �����\n",
      "def psorces fst srouce path, snd srouce path, tgaret p�ht���a��� �����\n"
     ]
    }
   ],
   "source": [
    "textNoUni = text.encode('windows-1251')\n",
    "text_shuffle(textNoUni, '20')\n",
    "print\n",
    "text_shuffle(textNoUni, 'None')"
   ]
  },
  {
   "cell_type": "markdown",
   "metadata": {},
   "source": [
    "###### Оъяснение"
   ]
  },
  {
   "cell_type": "markdown",
   "metadata": {},
   "source": [
    "Знаки вопроса и кракозябры появляются из-за не совпадения размерности кодировок"
   ]
  },
  {
   "cell_type": "markdown",
   "metadata": {},
   "source": [
    "## Задание 3.2\n",
    "\n",
    "Напишите функцию, которая читает два файла построчно (то есть не загружая всё содержимое в память), и записывает в выходной файл результат лексиграфического сравнение срочки из первого файла и из второго (First, Second и Equal по аналогии c предыдущим ДЗ)."
   ]
  },
  {
   "cell_type": "code",
   "execution_count": 349,
   "metadata": {
    "collapsed": false
   },
   "outputs": [],
   "source": [
    "text1 = \"\"\"apple\n",
    "- яблоко, тыблоко, огрызок\n",
    "fruit - банан, яблоко, персик\n",
    "punishment\n",
    "- наказание, кара\"\"\"\n",
    "with open('fst_source_path', 'w') as f:\n",
    "    f.write(text1)"
   ]
  },
  {
   "cell_type": "code",
   "execution_count": 350,
   "metadata": {
    "collapsed": true
   },
   "outputs": [],
   "source": [
    "text2 = u\"\"\"apple\n",
    "- malum, pomum, popula\n",
    "fruit - baca, bacca, popum\n",
    "punishment\n",
    "- malum, multa\"\"\"\n",
    "with open('snd_source_path', 'w') as f:\n",
    "    f.write(text2)"
   ]
  },
  {
   "cell_type": "code",
   "execution_count": 353,
   "metadata": {
    "collapsed": false
   },
   "outputs": [],
   "source": [
    "def process(fst_source_path, snd_source_path, target_path):\n",
    "    # Допишите код\n",
    "    f1 = open(fst_source_path, 'r')\n",
    "    f2 = open(snd_source_path, 'r')\n",
    "    g = open(target_path, 'w')\n",
    "    line1 = f1.readline() \n",
    "    line2 = f2.readline()\n",
    "    while (line1 and line2):\n",
    "        if (line1 < line2):\n",
    "            g.write('First\\n')\n",
    "        elif (line1 > line2):\n",
    "            g.write('Second\\n')\n",
    "        else:\n",
    "            g.write('Equal\\n')            \n",
    "        line1 = f1.readline()\n",
    "        line2 = f2.readline()        \n",
    "        \n",
    "    f1.close()\n",
    "    f2.close()\n",
    "    g.close()\n",
    "    return"
   ]
  },
  {
   "cell_type": "code",
   "execution_count": null,
   "metadata": {
    "collapsed": false
   },
   "outputs": [],
   "source": []
  },
  {
   "cell_type": "code",
   "execution_count": 354,
   "metadata": {
    "collapsed": false
   },
   "outputs": [],
   "source": [
    "process('fst_source_path', 'snd_source_path', 'target_path')"
   ]
  },
  {
   "cell_type": "code",
   "execution_count": null,
   "metadata": {
    "collapsed": true
   },
   "outputs": [],
   "source": []
  }
 ],
 "metadata": {
  "anaconda-cloud": {},
  "kernelspec": {
   "display_name": "Python 2",
   "language": "python",
   "name": "python2"
  },
  "language_info": {
   "codemirror_mode": {
    "name": "ipython",
    "version": 2
   },
   "file_extension": ".py",
   "mimetype": "text/x-python",
   "name": "python",
   "nbconvert_exporter": "python",
   "pygments_lexer": "ipython2",
   "version": "2.7.13"
  }
 },
 "nbformat": 4,
 "nbformat_minor": 2
}
